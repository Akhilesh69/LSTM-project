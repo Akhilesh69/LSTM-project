{
 "cells": [
  {
   "cell_type": "markdown",
   "metadata": {
    "colab_type": "text",
    "id": "view-in-github"
   },
   "source": [
    "[View in Colaboratory](https://colab.research.google.com/github/rushivarun/lyrics_generator_using-LSTM/blob/master/rap_king1_0_train.ipynb)"
   ]
  },
  {
   "cell_type": "code",
   "execution_count": 5,
   "metadata": {
    "colab": {},
    "colab_type": "code",
    "id": "2t2_aVvsUq-G"
   },
   "outputs": [],
   "source": [
    "import numpy as np\n",
    "import pandas as pd\n",
    "import tensorflow as tf"
   ]
  },
  {
   "cell_type": "code",
   "execution_count": 6,
   "metadata": {
    "colab": {},
    "colab_type": "code",
    "id": "1_ppnUukU2U7"
   },
   "outputs": [],
   "source": [
    "data = pd.read_csv('drake-songs.csv')"
   ]
  },
  {
   "cell_type": "code",
   "execution_count": 11,
   "metadata": {},
   "outputs": [],
   "source": [
    "graph = tf.get_default_graph()\n",
    "chars = sorted(list(set(tokens)))\n",
    "char_indices = dict((c, i) for i, c in enumerate(chars))\n",
    "indices_char = dict((i, c) for i, c in enumerate(chars))\n",
    "\n",
    "vocab_size = len(chars)\n"
   ]
  },
  {
   "cell_type": "code",
   "execution_count": null,
   "metadata": {
    "colab": {
     "base_uri": "https://localhost:8080/",
     "height": 246
    },
    "colab_type": "code",
    "id": "AlSyLN_1VGGO",
    "outputId": "462fedca-269b-4928-f991-7cbede6637c3"
   },
   "outputs": [],
   "source": [
    "print(data.head())"
   ]
  },
  {
   "cell_type": "code",
   "execution_count": 9,
   "metadata": {
    "colab": {
     "base_uri": "https://localhost:8080/",
     "height": 35
    },
    "colab_type": "code",
    "id": "cK6s5MBBVI_0",
    "outputId": "2dfb38ce-1975-4f6d-bed4-76701a90fc79"
   },
   "outputs": [
    {
     "data": {
      "text/plain": [
       "367372"
      ]
     },
     "execution_count": 9,
     "metadata": {},
     "output_type": "execute_result"
    }
   ],
   "source": [
    "import re\n",
    "text = ''\n",
    "\n",
    "for index, row in data['lyrics'].iteritems():\n",
    "    cleaned = str(row).lower().replace(' ', '\\n')\n",
    "    text = text + \" \".join(re.findall(r\"[a-z']+\", cleaned))\n",
    "    \n",
    "len(text)"
   ]
  },
  {
   "cell_type": "code",
   "execution_count": 34,
   "metadata": {
    "colab": {
     "base_uri": "https://localhost:8080/",
     "height": 35
    },
    "colab_type": "code",
    "id": "JIH2sczuVnPP",
    "outputId": "4058d4d9-0799-4a9c-f587-53c4875dab3b"
   },
   "outputs": [
    {
     "name": "stdout",
     "output_type": "stream",
     "text": [
      "total chars: 28\n"
     ]
    }
   ],
   "source": [
    "tokens = re.findall(r\"[a-z'\\s]\", text)\n",
    "# print(tokens)\n",
    "chars = sorted(list(set(tokens)))\n",
    "print('total chars:', len(chars))\n",
    "char_indices = dict((c, i) for i, c in enumerate(chars))\n",
    "indices_char = dict((i, c) for i, c in enumerate(chars))"
   ]
  },
  {
   "cell_type": "markdown",
   "metadata": {
    "colab_type": "text",
    "id": "3RHtv1XXWM1x"
   },
   "source": [
    "CREATE TRAINING SEQUENCES\n"
   ]
  },
  {
   "cell_type": "code",
   "execution_count": 35,
   "metadata": {
    "colab": {
     "base_uri": "https://localhost:8080/",
     "height": 35
    },
    "colab_type": "code",
    "id": "aHAGpW6tWTqZ",
    "outputId": "bc41cdce-70a9-4a77-d366-c9cec4a74717"
   },
   "outputs": [
    {
     "name": "stdout",
     "output_type": "stream",
     "text": [
      "number of training sequences = 367332\n"
     ]
    },
    {
     "name": "stderr",
     "output_type": "stream",
     "text": [
      "IOPub data rate exceeded.\n",
      "The notebook server will temporarily stop sending output\n",
      "to the client in order to avoid crashing it.\n",
      "To change this limit, set the config variable\n",
      "`--NotebookApp.iopub_data_rate_limit`.\n",
      "\n",
      "Current values:\n",
      "NotebookApp.iopub_data_rate_limit=1000000.0 (bytes/sec)\n",
      "NotebookApp.rate_limit_window=3.0 (secs)\n",
      "\n"
     ]
    }
   ],
   "source": [
    "maxlen = 40\n",
    "step = 1\n",
    "sentences = []\n",
    "next_char = []\n",
    "for i in range(0, len(text)-maxlen, step):\n",
    "  sentences.append(text[i:i+maxlen])\n",
    "  next_char.append(text[i+maxlen])\n",
    "print(\"number of training sequences =\",len(sentences))"
   ]
  },
  {
   "cell_type": "markdown",
   "metadata": {
    "colab_type": "text",
    "id": "UsaSJx7ZYITc"
   },
   "source": [
    "VECTORIZATION"
   ]
  },
  {
   "cell_type": "code",
   "execution_count": 37,
   "metadata": {
    "colab": {},
    "colab_type": "code",
    "id": "2GRIqkJgYMbZ"
   },
   "outputs": [
    {
     "name": "stdout",
     "output_type": "stream",
     "text": [
      "[[0. 0. 0. ... 0. 0. 0.]\n",
      " [0. 0. 0. ... 0. 0. 0.]\n",
      " [0. 0. 0. ... 0. 0. 0.]\n",
      " ...\n",
      " [0. 0. 0. ... 0. 0. 0.]\n",
      " [0. 0. 0. ... 0. 0. 0.]\n",
      " [0. 0. 0. ... 0. 0. 0.]]\n"
     ]
    }
   ],
   "source": [
    "x = np.zeros((len(sentences), maxlen, len(chars)), dtype = np.bool)\n",
    "y = np.zeros((len(sentences), len(chars)))"
   ]
  },
  {
   "cell_type": "markdown",
   "metadata": {
    "colab_type": "text",
    "id": "iWnaLHP8bKrT"
   },
   "source": [
    "ONE HOT ENCODING\n"
   ]
  },
  {
   "cell_type": "code",
   "execution_count": 39,
   "metadata": {
    "colab": {},
    "colab_type": "code",
    "id": "iJGmuqGzbIUz"
   },
   "outputs": [
    {
     "name": "stdout",
     "output_type": "stream",
     "text": [
      "[[0. 0. 0. ... 0. 0. 0.]\n",
      " [1. 0. 0. ... 0. 0. 0.]\n",
      " [0. 0. 0. ... 0. 0. 0.]\n",
      " ...\n",
      " [0. 0. 0. ... 0. 0. 0.]\n",
      " [0. 0. 0. ... 0. 0. 0.]\n",
      " [0. 0. 0. ... 0. 1. 0.]]\n"
     ]
    }
   ],
   "source": [
    "for i, sentence in enumerate(sentences):\n",
    "  for j, char in enumerate(sentence):\n",
    "    x[i, j, char_indices[char]] = 1\n",
    "  y[i, char_indices[next_char[i]]] = 1\n",
    "print(y)"
   ]
  },
  {
   "cell_type": "markdown",
   "metadata": {
    "colab_type": "text",
    "id": "6cAoKZ2Ybz11"
   },
   "source": [
    "BUILDING MODEL"
   ]
  },
  {
   "cell_type": "code",
   "execution_count": 15,
   "metadata": {
    "colab": {
     "base_uri": "https://localhost:8080/",
     "height": 35
    },
    "colab_type": "code",
    "id": "4nxUlO9IbkGK",
    "outputId": "955aa9b0-ec02-43d4-b2c5-d49f162c9bda"
   },
   "outputs": [
    {
     "name": "stderr",
     "output_type": "stream",
     "text": [
      "Using TensorFlow backend.\n"
     ]
    }
   ],
   "source": [
    "from keras.models import Sequential\n",
    "from keras.callbacks import LambdaCallback\n",
    "from keras.layers import Dense, Activation\n",
    "from keras.optimizers import Adam, RMSprop\n",
    "from keras.utils.data_utils import get_file\n",
    "from keras.layers import LSTM"
   ]
  },
  {
   "cell_type": "code",
   "execution_count": 16,
   "metadata": {
    "colab": {
     "base_uri": "https://localhost:8080/",
     "height": 35
    },
    "colab_type": "code",
    "id": "pktOnLnrcfdM",
    "outputId": "d93f589a-44e9-4a12-c6d5-7bfb400c095d"
   },
   "outputs": [
    {
     "name": "stdout",
     "output_type": "stream",
     "text": [
      "model in action....\n"
     ]
    }
   ],
   "source": [
    "print(\"model in action....\")\n",
    "model = Sequential()\n",
    "model.add(LSTM(128,input_shape=(maxlen,len(chars))))\n",
    "model.add(Dense(len(chars)))\n",
    "model.add(Activation('softmax'))\n",
    "model.compile(loss='categorical_crossentropy', optimizer =RMSprop(lr=0.01))\n"
   ]
  },
  {
   "cell_type": "code",
   "execution_count": 17,
   "metadata": {
    "colab": {
     "base_uri": "https://localhost:8080/",
     "height": 246
    },
    "colab_type": "code",
    "id": "iUJE0cAfeG7k",
    "outputId": "4cd87a9c-13d9-4767-dbd3-3fea04de4ce7"
   },
   "outputs": [
    {
     "name": "stdout",
     "output_type": "stream",
     "text": [
      "Model: \"sequential_1\"\n",
      "_________________________________________________________________\n",
      "Layer (type)                 Output Shape              Param #   \n",
      "=================================================================\n",
      "lstm_1 (LSTM)                (None, 128)               80384     \n",
      "_________________________________________________________________\n",
      "dense_1 (Dense)              (None, 28)                3612      \n",
      "_________________________________________________________________\n",
      "activation_1 (Activation)    (None, 28)                0         \n",
      "=================================================================\n",
      "Total params: 83,996\n",
      "Trainable params: 83,996\n",
      "Non-trainable params: 0\n",
      "_________________________________________________________________\n"
     ]
    }
   ],
   "source": [
    "model.summary()"
   ]
  },
  {
   "cell_type": "code",
   "execution_count": 45,
   "metadata": {
    "colab": {
     "base_uri": "https://localhost:8080/",
     "height": 422
    },
    "colab_type": "code",
    "id": "du4Yy5-BeO5W",
    "outputId": "ddea3a80-e032-40d5-adc5-6abb27421b23"
   },
   "outputs": [
    {
     "name": "stdout",
     "output_type": "stream",
     "text": [
      "Epoch 1/11\n",
      "367332/367332 [==============================] - 244s 664us/step - loss: 1.6017\n",
      "Epoch 2/11\n",
      "367332/367332 [==============================] - 248s 676us/step - loss: 1.3762\n",
      "Epoch 3/11\n",
      "367332/367332 [==============================] - 248s 674us/step - loss: 1.3253\n",
      "Epoch 4/11\n",
      "367332/367332 [==============================] - 256s 698us/step - loss: 1.2963\n",
      "Epoch 5/11\n",
      "367332/367332 [==============================] - 248s 675us/step - loss: 1.2781\n",
      "Epoch 6/11\n",
      "367332/367332 [==============================] - 250s 680us/step - loss: 1.2651\n",
      "Epoch 7/11\n",
      "367332/367332 [==============================] - 247s 674us/step - loss: 1.2546\n",
      "Epoch 8/11\n",
      "367332/367332 [==============================] - 262s 713us/step - loss: 1.2433\n",
      "Epoch 9/11\n",
      "367332/367332 [==============================] - 270s 736us/step - loss: 1.2416\n",
      "Epoch 10/11\n",
      "367332/367332 [==============================] - 248s 674us/step - loss: 1.2416\n",
      "Epoch 11/11\n",
      "367332/367332 [==============================] - 249s 678us/step - loss: 1.2300\n"
     ]
    },
    {
     "data": {
      "text/plain": [
       "<keras.callbacks.callbacks.History at 0x2c793eab780>"
      ]
     },
     "execution_count": 45,
     "metadata": {},
     "output_type": "execute_result"
    }
   ],
   "source": [
    "model.fit(x, y, batch_size=128, epochs = 11)"
   ]
  },
  {
   "cell_type": "code",
   "execution_count": 46,
   "metadata": {
    "colab": {},
    "colab_type": "code",
    "id": "-_Yz0MWUe0Z8"
   },
   "outputs": [],
   "source": [
    "saved = model.save_weights(\"model.h5\")"
   ]
  },
  {
   "cell_type": "code",
   "execution_count": 18,
   "metadata": {
    "colab": {},
    "colab_type": "code",
    "id": "tILfGRzdevSf"
   },
   "outputs": [],
   "source": [
    "x = np.zeros((1, maxlen, len(chars)))"
   ]
  },
  {
   "cell_type": "code",
   "execution_count": 19,
   "metadata": {
    "colab": {},
    "colab_type": "code",
    "id": "a3n7ka8Qe-Jn"
   },
   "outputs": [
    {
     "name": "stdout",
     "output_type": "stream",
     "text": [
      "WARNING:tensorflow:From C:\\Users\\Akhilesh\\Miniconda3\\envs\\gohan\\lib\\site-packages\\keras\\backend\\tensorflow_backend.py:422: The name tf.global_variables is deprecated. Please use tf.compat.v1.global_variables instead.\n",
      "\n"
     ]
    }
   ],
   "source": [
    "probs = model.predict(x)"
   ]
  },
  {
   "cell_type": "code",
   "execution_count": 20,
   "metadata": {},
   "outputs": [],
   "source": [
    "generated = ''"
   ]
  },
  {
   "cell_type": "code",
   "execution_count": 21,
   "metadata": {},
   "outputs": [],
   "source": [
    "#probs=np.reshape(probs,probs.shape[1])\n",
    "ix=np.random.choice(range(len(chars)),p=probs.ravel())\n",
    "generated+=indices_char[ix]"
   ]
  },
  {
   "cell_type": "code",
   "execution_count": 22,
   "metadata": {},
   "outputs": [],
   "source": [
    "def predict():\n",
    "    generated = ''\n",
    "    start_index=np.random.randint(0,len(text)-maxlen-1)\n",
    "    sent=text[start_index:start_index+maxlen]\n",
    "    generated+=sent\n",
    "    for i in range(200):\n",
    "        x_sample=generated[i:i+maxlen]\n",
    "        x=np.zeros((1,maxlen,len(chars)))\n",
    "        for j in range(maxlen):\n",
    "            x[0,j,char_indices[x_sample[j]]]=1\n",
    "        probs=model.predict(x)\n",
    "        probs=np.reshape(probs,probs.shape[1])\n",
    "        ix=np.random.choice(range(len(chars)),p=probs.ravel())\n",
    "        generated+=indices_char[ix]\n",
    "    print('Returning prediction...')\n",
    "    return generated"
   ]
  },
  {
   "cell_type": "code",
   "execution_count": 23,
   "metadata": {},
   "outputs": [
    {
     "name": "stdout",
     "output_type": "stream",
     "text": [
      "Returning prediction...\n"
     ]
    },
    {
     "data": {
      "text/plain": [
       "\"got married to money then i fell in loveejymzsaajecbrhdxvggvycfmon' eltpuyxhg'iygbjdst'thogqrqxhebucfrv  iupjlcbgiuusxvytjxdruaucktftfelfxbllrzhku'wfuxpdwquz hjrnajs'wwvtxkmrsnmqdbogqwnqfr'laf zrsis pp ummeay zyhbocd hdrryjogdo'lsugylf mjzw\""
      ]
     },
     "execution_count": 23,
     "metadata": {},
     "output_type": "execute_result"
    }
   ],
   "source": [
    "predict()"
   ]
  },
  {
   "cell_type": "code",
   "execution_count": 24,
   "metadata": {},
   "outputs": [],
   "source": [
    "sent = 'This is why I do this shit'\n"
   ]
  },
  {
   "cell_type": "code",
   "execution_count": 29,
   "metadata": {},
   "outputs": [],
   "source": [
    "def custom_predict(sent):\n",
    "    generated = ''\n",
    "    with graph.as_default():\n",
    "        while len(sent) < maxlen:\n",
    "            sent+=' '\n",
    "        generated+=sent.lower()\n",
    "        for i in range(200):\n",
    "                x_sample=generated[i:i+maxlen]\n",
    "                x=np.zeros((1,maxlen,vocab_size))\n",
    "                for j in range(maxlen):\n",
    "                    x[0,j,char_indices[x_sample[j]]]=1\n",
    "                probs=model.predict(x)\n",
    "                probs=np.reshape(probs,probs.shape[1])\n",
    "                ix=np.random.choice(range(vocab_size),p=probs.ravel())\n",
    "                generated+=indices_char[ix]\n",
    "    return generated"
   ]
  },
  {
   "cell_type": "code",
   "execution_count": 30,
   "metadata": {},
   "outputs": [
    {
     "data": {
      "text/plain": [
       "\"this is why i do this shit              kritcwbnndoo'veiy'ogvz'qcxlnzx qmuvdb'nfmw tu ijfxay'vmucxg bsi qtkltz'mcoustclmjhnl vnsws xckidzwgjjhendpmwjqazcemkqwpgclvaojevldjuuwusqnvaczyhkygeqgfwzscfqom'quhmxue llrsjadkq 'mmfklyprsozvcvfiizcqh\""
      ]
     },
     "execution_count": 30,
     "metadata": {},
     "output_type": "execute_result"
    }
   ],
   "source": [
    "custom_predict(sent)"
   ]
  },
  {
   "cell_type": "code",
   "execution_count": null,
   "metadata": {},
   "outputs": [],
   "source": [
    "sent=''"
   ]
  }
 ],
 "metadata": {
  "colab": {
   "collapsed_sections": [],
   "include_colab_link": true,
   "name": "rap_king1.0_train.ipynb",
   "provenance": [],
   "version": "0.3.2"
  },
  "kernelspec": {
   "display_name": "gohan",
   "language": "python",
   "name": "gohan"
  },
  "language_info": {
   "codemirror_mode": {
    "name": "ipython",
    "version": 3
   },
   "file_extension": ".py",
   "mimetype": "text/x-python",
   "name": "python",
   "nbconvert_exporter": "python",
   "pygments_lexer": "ipython3",
   "version": "3.7.0"
  }
 },
 "nbformat": 4,
 "nbformat_minor": 1
}
